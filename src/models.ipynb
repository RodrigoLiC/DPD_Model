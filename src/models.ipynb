{
 "cells": [
  {
   "cell_type": "code",
   "execution_count": 8,
   "id": "52320a29",
   "metadata": {},
   "outputs": [],
   "source": [
    "import pandas as pd\n",
    "import numpy as np\n",
    "import matplotlib.pyplot as plt\n",
    "import seaborn as sns"
   ]
  },
  {
   "cell_type": "markdown",
   "id": "5f6ead13",
   "metadata": {},
   "source": [
    "# FASE 2: ENTRENAMIENTO DE MODELOS"
   ]
  },
  {
   "cell_type": "code",
   "execution_count": null,
   "id": "8a270c23",
   "metadata": {},
   "outputs": [],
   "source": [
    "matriculas_df = pd.read_csv('../data/raw/matriculas.csv')\n",
    "print(\"Datos cargados exitosamente.\")"
   ]
  }
 ],
 "metadata": {
  "kernelspec": {
   "display_name": ".venv",
   "language": "python",
   "name": "python3"
  },
  "language_info": {
   "codemirror_mode": {
    "name": "ipython",
    "version": 3
   },
   "file_extension": ".py",
   "mimetype": "text/x-python",
   "name": "python",
   "nbconvert_exporter": "python",
   "pygments_lexer": "ipython3",
   "version": "3.12.1"
  }
 },
 "nbformat": 4,
 "nbformat_minor": 5
}
